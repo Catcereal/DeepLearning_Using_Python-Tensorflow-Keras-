{
  "nbformat": 4,
  "nbformat_minor": 0,
  "metadata": {
    "colab": {
      "provenance": [],
      "authorship_tag": "ABX9TyOecqf/B4JjFC95BIA9z4XF",
      "include_colab_link": true
    },
    "kernelspec": {
      "name": "python3",
      "display_name": "Python 3"
    },
    "language_info": {
      "name": "python"
    }
  },
  "cells": [
    {
      "cell_type": "markdown",
      "metadata": {
        "id": "view-in-github",
        "colab_type": "text"
      },
      "source": [
        "<a href=\"https://colab.research.google.com/github/Catcereal/DeepLearning_Using_Python-Tensorflow-Keras-/blob/main/Chapter2.ipynb\" target=\"_parent\"><img src=\"https://colab.research.google.com/assets/colab-badge.svg\" alt=\"Open In Colab\"/></a>"
      ]
    },
    {
      "cell_type": "markdown",
      "source": [
        "케라스에서 MNIST 데이터셋 적재하기"
      ],
      "metadata": {
        "id": "SA1jaZjSgrtc"
      }
    },
    {
      "cell_type": "code",
      "execution_count": 1,
      "metadata": {
        "id": "kOuYr4ZGiT0i",
        "colab": {
          "base_uri": "https://localhost:8080/"
        },
        "outputId": "08ab4edf-c6d5-46af-f44b-936abf35d849"
      },
      "outputs": [
        {
          "output_type": "stream",
          "name": "stdout",
          "text": [
            "Downloading data from https://storage.googleapis.com/tensorflow/tf-keras-datasets/mnist.npz\n",
            "\u001b[1m11490434/11490434\u001b[0m \u001b[32m━━━━━━━━━━━━━━━━━━━━\u001b[0m\u001b[37m\u001b[0m \u001b[1m0s\u001b[0m 0us/step\n"
          ]
        }
      ],
      "source": [
        "from tensorflow.keras.datasets import mnist\n",
        "(train_images, train_labels), (test_images, test_labels) = mnist.load_data()"
      ]
    },
    {
      "cell_type": "code",
      "source": [
        "train_images.shape"
      ],
      "metadata": {
        "colab": {
          "base_uri": "https://localhost:8080/"
        },
        "id": "Vibjb_yTg0ka",
        "outputId": "6537026c-a6ce-43ff-c5d5-c48b225fdf70"
      },
      "execution_count": 2,
      "outputs": [
        {
          "output_type": "execute_result",
          "data": {
            "text/plain": [
              "(60000, 28, 28)"
            ]
          },
          "metadata": {},
          "execution_count": 2
        }
      ]
    },
    {
      "cell_type": "code",
      "source": [
        "len(train_labels)"
      ],
      "metadata": {
        "colab": {
          "base_uri": "https://localhost:8080/"
        },
        "id": "MhkUUJpNg45l",
        "outputId": "1b776edc-9e3f-4e1b-e73d-0625e9c56bee"
      },
      "execution_count": 3,
      "outputs": [
        {
          "output_type": "execute_result",
          "data": {
            "text/plain": [
              "60000"
            ]
          },
          "metadata": {},
          "execution_count": 3
        }
      ]
    },
    {
      "cell_type": "code",
      "source": [
        "test_images.shape"
      ],
      "metadata": {
        "colab": {
          "base_uri": "https://localhost:8080/"
        },
        "id": "2I5JUZOeg5lh",
        "outputId": "37c3bcd8-058c-4470-d787-4a4dbbc85a2f"
      },
      "execution_count": 4,
      "outputs": [
        {
          "output_type": "execute_result",
          "data": {
            "text/plain": [
              "(10000, 28, 28)"
            ]
          },
          "metadata": {},
          "execution_count": 4
        }
      ]
    },
    {
      "cell_type": "code",
      "source": [
        "len(test_labels)"
      ],
      "metadata": {
        "colab": {
          "base_uri": "https://localhost:8080/"
        },
        "id": "xPlxv4ZDg5x1",
        "outputId": "edb4eba6-942f-41d6-be33-0060f2ce2013"
      },
      "execution_count": 5,
      "outputs": [
        {
          "output_type": "execute_result",
          "data": {
            "text/plain": [
              "10000"
            ]
          },
          "metadata": {},
          "execution_count": 5
        }
      ]
    },
    {
      "cell_type": "code",
      "source": [
        "test_labels"
      ],
      "metadata": {
        "colab": {
          "base_uri": "https://localhost:8080/"
        },
        "id": "wcweiUYzg5-I",
        "outputId": "c9c5b445-9091-43c7-c155-8342ff982fec"
      },
      "execution_count": 6,
      "outputs": [
        {
          "output_type": "execute_result",
          "data": {
            "text/plain": [
              "array([7, 2, 1, ..., 4, 5, 6], dtype=uint8)"
            ]
          },
          "metadata": {},
          "execution_count": 6
        }
      ]
    },
    {
      "cell_type": "markdown",
      "source": [
        "신경망 구조"
      ],
      "metadata": {
        "id": "pkBZq907hEG0"
      }
    },
    {
      "cell_type": "code",
      "source": [
        "from tensorflow import keras\n",
        "from tensorflow.keras import layers\n",
        "\n",
        "model = keras.Sequential([\n",
        "    layers.Dense(512, activation=\"relu\"),\n",
        "    layers.Dense(10, activation=\"softmax\")\n",
        "])"
      ],
      "metadata": {
        "id": "fyUX3OestICh"
      },
      "execution_count": 7,
      "outputs": []
    },
    {
      "cell_type": "markdown",
      "source": [
        "컴파일 단계"
      ],
      "metadata": {
        "id": "_cSBkS5phGec"
      }
    },
    {
      "cell_type": "code",
      "source": [
        "model.compile(optimizer=\"rmsprop\",\n",
        "              loss=\"sparse_categorical_crossentropy\",\n",
        "              metrics=[\"accuracy\"])"
      ],
      "metadata": {
        "id": "Hbjtx8x1tZX_"
      },
      "execution_count": 8,
      "outputs": []
    },
    {
      "cell_type": "markdown",
      "source": [
        "이미지 데이터 준비"
      ],
      "metadata": {
        "id": "LZpYOhMPhHvG"
      }
    },
    {
      "cell_type": "code",
      "source": [
        "train_images = train_images.reshape((60000, 28 * 28)) #unsigned int 8byte -> 60000, 28, 28 인 배열로 저장\n",
        "train_images = train_images.astype(\"float32\") / 255   #-> float 32byte => 60000, 28, 28인 배영로 바꾼다.\n",
        "test_images = test_images.reshape((10000, 28 * 28))\n",
        "test_images = test_images.astype(\"float32\") / 255"
      ],
      "metadata": {
        "id": "Asd6tvDetcl-"
      },
      "execution_count": 9,
      "outputs": []
    },
    {
      "cell_type": "markdown",
      "source": [
        "모델 훈련"
      ],
      "metadata": {
        "id": "vw8x2dJZhJEi"
      }
    },
    {
      "cell_type": "code",
      "source": [
        "model.fit(train_images, train_labels, epochs=5, batch_size=128)"
      ],
      "metadata": {
        "colab": {
          "base_uri": "https://localhost:8080/"
        },
        "id": "z35ouQdutqjO",
        "outputId": "1a864cfd-0a28-439e-a5d9-53c56e0c9144"
      },
      "execution_count": 10,
      "outputs": [
        {
          "output_type": "stream",
          "name": "stdout",
          "text": [
            "Epoch 1/5\n",
            "\u001b[1m469/469\u001b[0m \u001b[32m━━━━━━━━━━━━━━━━━━━━\u001b[0m\u001b[37m\u001b[0m \u001b[1m10s\u001b[0m 17ms/step - accuracy: 0.8746 - loss: 0.4382\n",
            "Epoch 2/5\n",
            "\u001b[1m469/469\u001b[0m \u001b[32m━━━━━━━━━━━━━━━━━━━━\u001b[0m\u001b[37m\u001b[0m \u001b[1m6s\u001b[0m 9ms/step - accuracy: 0.9658 - loss: 0.1190\n",
            "Epoch 3/5\n",
            "\u001b[1m469/469\u001b[0m \u001b[32m━━━━━━━━━━━━━━━━━━━━\u001b[0m\u001b[37m\u001b[0m \u001b[1m6s\u001b[0m 11ms/step - accuracy: 0.9778 - loss: 0.0743\n",
            "Epoch 4/5\n",
            "\u001b[1m469/469\u001b[0m \u001b[32m━━━━━━━━━━━━━━━━━━━━\u001b[0m\u001b[37m\u001b[0m \u001b[1m4s\u001b[0m 9ms/step - accuracy: 0.9844 - loss: 0.0531\n",
            "Epoch 5/5\n",
            "\u001b[1m469/469\u001b[0m \u001b[32m━━━━━━━━━━━━━━━━━━━━\u001b[0m\u001b[37m\u001b[0m \u001b[1m4s\u001b[0m 9ms/step - accuracy: 0.9891 - loss: 0.0376\n"
          ]
        },
        {
          "output_type": "execute_result",
          "data": {
            "text/plain": [
              "<keras.src.callbacks.history.History at 0x7985b4314c20>"
            ]
          },
          "metadata": {},
          "execution_count": 10
        }
      ]
    },
    {
      "cell_type": "markdown",
      "source": [
        "모델을 사용해 예측 만들기"
      ],
      "metadata": {
        "id": "IJtAEuzphKdH"
      }
    },
    {
      "cell_type": "code",
      "source": [
        "test_digits=test_images[0:10]\n",
        "predictions=model.predict(test_digits)\n",
        "predictions[0]"
      ],
      "metadata": {
        "colab": {
          "base_uri": "https://localhost:8080/"
        },
        "id": "97BUYdNhtxli",
        "outputId": "7f24c452-5b79-472c-d803-fc9079f0a1ef"
      },
      "execution_count": 11,
      "outputs": [
        {
          "output_type": "stream",
          "name": "stdout",
          "text": [
            "\u001b[1m1/1\u001b[0m \u001b[32m━━━━━━━━━━━━━━━━━━━━\u001b[0m\u001b[37m\u001b[0m \u001b[1m0s\u001b[0m 59ms/step\n"
          ]
        },
        {
          "output_type": "execute_result",
          "data": {
            "text/plain": [
              "array([5.4287632e-09, 1.7422827e-10, 4.7566948e-07, 3.5155499e-06,\n",
              "       1.3190573e-11, 7.3904789e-09, 2.7104425e-13, 9.9999493e-01,\n",
              "       2.5931358e-08, 1.0536395e-06], dtype=float32)"
            ]
          },
          "metadata": {},
          "execution_count": 11
        }
      ]
    },
    {
      "cell_type": "code",
      "source": [
        "predictions[0].argmax()"
      ],
      "metadata": {
        "colab": {
          "base_uri": "https://localhost:8080/"
        },
        "id": "37hcr9GchNzV",
        "outputId": "468d2958-104f-4329-e7d0-3396128c639c"
      },
      "execution_count": 12,
      "outputs": [
        {
          "output_type": "execute_result",
          "data": {
            "text/plain": [
              "np.int64(7)"
            ]
          },
          "metadata": {},
          "execution_count": 12
        }
      ]
    },
    {
      "cell_type": "code",
      "source": [
        "predictions[0][7]"
      ],
      "metadata": {
        "colab": {
          "base_uri": "https://localhost:8080/"
        },
        "id": "Qc2GqP1chP_R",
        "outputId": "1a82945d-8ee0-4afa-bddc-b776c09b307b"
      },
      "execution_count": 13,
      "outputs": [
        {
          "output_type": "execute_result",
          "data": {
            "text/plain": [
              "np.float32(0.99999493)"
            ]
          },
          "metadata": {},
          "execution_count": 13
        }
      ]
    },
    {
      "cell_type": "code",
      "source": [
        "test_labels[0]"
      ],
      "metadata": {
        "colab": {
          "base_uri": "https://localhost:8080/"
        },
        "id": "GyeeoHtQ1_sX",
        "outputId": "0a135b2a-8f21-46fb-8e18-daa079e7dafb"
      },
      "execution_count": 14,
      "outputs": [
        {
          "output_type": "execute_result",
          "data": {
            "text/plain": [
              "np.uint8(7)"
            ]
          },
          "metadata": {},
          "execution_count": 14
        }
      ]
    },
    {
      "cell_type": "markdown",
      "source": [
        "코드 2-7 새로운 데이터에서 모델 평가하기"
      ],
      "metadata": {
        "id": "CRUeHdERw8Gy"
      }
    },
    {
      "cell_type": "code",
      "source": [
        "test_loss, test_acc = model.evaluate(test_images, test_labels)\n",
        "print(f\"test_acc: {test_acc}\")"
      ],
      "metadata": {
        "colab": {
          "base_uri": "https://localhost:8080/"
        },
        "id": "eBncw-fGt8Ko",
        "outputId": "035eaef6-fe3e-4b76-b943-d0a0f51c9b64"
      },
      "execution_count": 15,
      "outputs": [
        {
          "output_type": "stream",
          "name": "stdout",
          "text": [
            "\u001b[1m313/313\u001b[0m \u001b[32m━━━━━━━━━━━━━━━━━━━━\u001b[0m\u001b[37m\u001b[0m \u001b[1m1s\u001b[0m 4ms/step - accuracy: 0.9754 - loss: 0.0789\n",
            "test_acc: 0.9786999821662903\n"
          ]
        }
      ]
    },
    {
      "cell_type": "markdown",
      "source": [
        "2.2 신경망을 위한 데이터 표현"
      ],
      "metadata": {
        "id": "IXPDp60dxJgJ"
      }
    },
    {
      "cell_type": "markdown",
      "source": [
        "스칼라(랭크-0 텐서)"
      ],
      "metadata": {
        "id": "zvwWuRXYxPUG"
      }
    },
    {
      "cell_type": "code",
      "source": [
        "import numpy as np\n",
        "x = np.array(12)\n",
        "x"
      ],
      "metadata": {
        "colab": {
          "base_uri": "https://localhost:8080/"
        },
        "id": "z55NHdcIxDWN",
        "outputId": "0167c902-9d5c-4f7a-afa4-25326390e708"
      },
      "execution_count": 16,
      "outputs": [
        {
          "output_type": "execute_result",
          "data": {
            "text/plain": [
              "array(12)"
            ]
          },
          "metadata": {},
          "execution_count": 16
        }
      ]
    },
    {
      "cell_type": "code",
      "source": [
        "x.ndim"
      ],
      "metadata": {
        "colab": {
          "base_uri": "https://localhost:8080/"
        },
        "id": "G2NgaD5vxXxL",
        "outputId": "86929f4e-9468-4e2d-dba3-2a80544ab9d6"
      },
      "execution_count": 17,
      "outputs": [
        {
          "output_type": "execute_result",
          "data": {
            "text/plain": [
              "0"
            ]
          },
          "metadata": {},
          "execution_count": 17
        }
      ]
    },
    {
      "cell_type": "markdown",
      "source": [
        "벡터(랭크-1 텐서)"
      ],
      "metadata": {
        "id": "eRb-jBH5xeYj"
      }
    },
    {
      "cell_type": "code",
      "source": [
        "x = np.array([12, 3, 6, 14, 7])\n",
        "x"
      ],
      "metadata": {
        "colab": {
          "base_uri": "https://localhost:8080/"
        },
        "id": "Cr2MEvc9xYmT",
        "outputId": "0878c549-dc4f-473b-c85a-f591f643b126"
      },
      "execution_count": 18,
      "outputs": [
        {
          "output_type": "execute_result",
          "data": {
            "text/plain": [
              "array([12,  3,  6, 14,  7])"
            ]
          },
          "metadata": {},
          "execution_count": 18
        }
      ]
    },
    {
      "cell_type": "code",
      "source": [
        "x.ndim"
      ],
      "metadata": {
        "colab": {
          "base_uri": "https://localhost:8080/"
        },
        "id": "0h-eEbN7xl5m",
        "outputId": "acb7e723-bd35-4e95-d1a0-8124cc306c59"
      },
      "execution_count": 19,
      "outputs": [
        {
          "output_type": "execute_result",
          "data": {
            "text/plain": [
              "1"
            ]
          },
          "metadata": {},
          "execution_count": 19
        }
      ]
    },
    {
      "cell_type": "markdown",
      "source": [
        "랭크-3 텐서와 더 높은 랭크의 텐서"
      ],
      "metadata": {
        "id": "3WKcMhQex1QL"
      }
    },
    {
      "cell_type": "code",
      "source": [
        "from tensorflow.keras.datasets import mnist\n",
        "(train_images, train_labels), (test_images, test_labels) = mnist.load_data()"
      ],
      "metadata": {
        "id": "hLxorfdsxyYe"
      },
      "execution_count": 20,
      "outputs": []
    },
    {
      "cell_type": "code",
      "source": [
        "train_images.ndim"
      ],
      "metadata": {
        "colab": {
          "base_uri": "https://localhost:8080/"
        },
        "id": "J-oZNzBPyOPN",
        "outputId": "35cd7c9d-d16d-4f97-d31d-fbab62c98756"
      },
      "execution_count": 21,
      "outputs": [
        {
          "output_type": "execute_result",
          "data": {
            "text/plain": [
              "3"
            ]
          },
          "metadata": {},
          "execution_count": 21
        }
      ]
    },
    {
      "cell_type": "code",
      "source": [
        "train_images.shape"
      ],
      "metadata": {
        "colab": {
          "base_uri": "https://localhost:8080/"
        },
        "id": "dbmmGLL3ygh6",
        "outputId": "9d9d0fde-1faa-4bfd-ee9c-3ab016b6332f"
      },
      "execution_count": 22,
      "outputs": [
        {
          "output_type": "execute_result",
          "data": {
            "text/plain": [
              "(60000, 28, 28)"
            ]
          },
          "metadata": {},
          "execution_count": 22
        }
      ]
    },
    {
      "cell_type": "code",
      "source": [
        "train_images.dtype"
      ],
      "metadata": {
        "colab": {
          "base_uri": "https://localhost:8080/"
        },
        "id": "c0ic9xbZyigu",
        "outputId": "b8143589-d01b-4127-fa96-573239270395"
      },
      "execution_count": 23,
      "outputs": [
        {
          "output_type": "execute_result",
          "data": {
            "text/plain": [
              "dtype('uint8')"
            ]
          },
          "metadata": {},
          "execution_count": 23
        }
      ]
    },
    {
      "cell_type": "markdown",
      "source": [
        "8비트 정수형 랭크-3 텐서임을 알 수 있다.\n",
        "\n",
        "28x28 크기의 정수 행렬 6만개가 있는 '배열'\n",
        "\n",
        "행렬의 각 원소는 0~255 사이의 값을 가진다."
      ],
      "metadata": {
        "id": "DcBK-bmVymGP"
      }
    },
    {
      "cell_type": "code",
      "source": [
        "import matplotlib.pyplot as plt\n",
        "\n",
        "digit = train_images[4]\n",
        "plt.imshow(digit, cmap=plt.cm.binary)\n",
        "plt.show()"
      ],
      "metadata": {
        "colab": {
          "base_uri": "https://localhost:8080/",
          "height": 430
        },
        "id": "wk_0yoEGykMT",
        "outputId": "bc38cf26-c886-414f-ed6c-779afbfa5b4a"
      },
      "execution_count": 24,
      "outputs": [
        {
          "output_type": "display_data",
          "data": {
            "text/plain": [
              "<Figure size 640x480 with 1 Axes>"
            ],
            "image/png": "[encoded data removed]"
          },
          "metadata": {}
        }
      ]
    },
    {
      "cell_type": "code",
      "source": [
        "train_labels[4]"
      ],
      "metadata": {
        "colab": {
          "base_uri": "https://localhost:8080/"
        },
        "id": "hM8dL2FkzF_v",
        "outputId": "d23ac8f7-9b3b-429d-8ae6-c74fb2a94b3b"
      },
      "execution_count": 25,
      "outputs": [
        {
          "output_type": "execute_result",
          "data": {
            "text/plain": [
              "np.uint8(9)"
            ]
          },
          "metadata": {},
          "execution_count": 25
        }
      ]
    },
    {
      "cell_type": "markdown",
      "source": [
        "넘파이로 텐서 조작하기\n",
        "\n",
        "● 동일하지만 조금 더 자세한 표기법은 각 배열의 축을 따라 슬라이싱의 시작 인덱스와 마지막 인\n",
        "덱스를 지정하는 것\n",
        "\n",
        "● :(콜론)은 전체 인덱스를 선택"
      ],
      "metadata": {
        "id": "EW6AT-aezfx-"
      }
    },
    {
      "cell_type": "code",
      "source": [
        "my_slice = train_images[10:100]\n",
        "my_slice.shape"
      ],
      "metadata": {
        "colab": {
          "base_uri": "https://localhost:8080/"
        },
        "id": "s1isYB8BzZy5",
        "outputId": "b169ab7d-0b0a-48ec-fb42-15f4e227bfda"
      },
      "execution_count": 26,
      "outputs": [
        {
          "output_type": "execute_result",
          "data": {
            "text/plain": [
              "(90, 28, 28)"
            ]
          },
          "metadata": {},
          "execution_count": 26
        }
      ]
    },
    {
      "cell_type": "code",
      "source": [
        "my_slice = train_images[10:100, :, :]\n",
        "my_slice.shape"
      ],
      "metadata": {
        "colab": {
          "base_uri": "https://localhost:8080/"
        },
        "id": "nIHzuZYfzlID",
        "outputId": "470e5dda-3fbe-4e80-e263-24547fbed160"
      },
      "execution_count": 27,
      "outputs": [
        {
          "output_type": "execute_result",
          "data": {
            "text/plain": [
              "(90, 28, 28)"
            ]
          },
          "metadata": {},
          "execution_count": 27
        }
      ]
    },
    {
      "cell_type": "code",
      "source": [
        "my_slice = train_images[10:100, 0:28, 0:28]\n",
        "my_slice.shape"
      ],
      "metadata": {
        "colab": {
          "base_uri": "https://localhost:8080/"
        },
        "id": "_QGq_Vmczs0E",
        "outputId": "03687968-4a43-4946-abcc-5a68ab631887"
      },
      "execution_count": 28,
      "outputs": [
        {
          "output_type": "execute_result",
          "data": {
            "text/plain": [
              "(90, 28, 28)"
            ]
          },
          "metadata": {},
          "execution_count": 28
        }
      ]
    },
    {
      "cell_type": "markdown",
      "source": [
        "● 일반적으로 각 배열의 축을 따라 어떤 인덱스 사이도 선택할 수 있음\n",
        "\n",
        "● 예를 들어 이미지의 오른쪽 아래 14×14 픽셀을 선택하려면 다음과 같이 함"
      ],
      "metadata": {
        "id": "n2UR_sGQ0Anl"
      }
    },
    {
      "cell_type": "code",
      "source": [
        "my_slice = train_images[:, 14:, 14:]"
      ],
      "metadata": {
        "id": "xLyw6ViDzxK-"
      },
      "execution_count": 29,
      "outputs": []
    },
    {
      "cell_type": "code",
      "source": [
        "my_slice = train_images[:, 7:-7, 7:-7]"
      ],
      "metadata": {
        "id": "dQ07Mme10HSM"
      },
      "execution_count": 30,
      "outputs": []
    },
    {
      "cell_type": "markdown",
      "source": [
        "배치 데이터\n",
        "\n",
        "● 일반적으로 딥러닝에서 사용하는 모든 데이터 텐서의 첫 번째 축(인덱스가 0부터 시작하므로 0\n",
        "번째 축)은 샘플 축(sample axis)(이따금 샘플 차원(sample dimension)이라고도 부름)\n",
        "\n",
        "딥러닝 모델은 한 번에 전체 데이터셋을 처리하지 않는다. 그 대신 데이터를 작은 **배치(batch)**로 나눈다.\n",
        "\n",
        "**MNIST** 숫자 데이터에서 크기가 128인 배치 하나는 다음과 같다."
      ],
      "metadata": {
        "id": "d_CLiDjQ0NTs"
      }
    },
    {
      "cell_type": "code",
      "source": [
        "batch = train_images[:128]"
      ],
      "metadata": {
        "id": "HjIVjXrC0L9s"
      },
      "execution_count": 31,
      "outputs": []
    },
    {
      "cell_type": "code",
      "source": [
        "# 다음 배치\n",
        "batch = train_images[128:256]"
      ],
      "metadata": {
        "id": "AHYi_FXw0pBC"
      },
      "execution_count": 32,
      "outputs": []
    },
    {
      "cell_type": "code",
      "source": [
        "# n번째 배치\n",
        "n = 3\n",
        "batch = train_images[128 * n: 128 * (n+1)]"
      ],
      "metadata": {
        "id": "9SfXBK9f0vYh"
      },
      "execution_count": 33,
      "outputs": []
    },
    {
      "cell_type": "markdown",
      "source": [
        "배치 데이터를 다룰 때 첫 번째 축(0번 축)을 배치 축(batch axis) 또는 배치 차원(batch\n",
        "dimension)이라고 부름"
      ],
      "metadata": {
        "id": "-9eC7COu06wh"
      }
    },
    {
      "cell_type": "markdown",
      "source": [
        "신경망의 톱니바퀴 : 텐서연산"
      ],
      "metadata": {
        "id": "39xzYrG459iS"
      }
    },
    {
      "cell_type": "markdown",
      "source": [
        "원소별 연산\n",
        "\n",
        "단순한 원소별 연산 구현 -> for 반복문으로 구현"
      ],
      "metadata": {
        "id": "KZQ7tqd_sKOl"
      }
    },
    {
      "cell_type": "code",
      "source": [
        "#relu 연산\n",
        "def naive_relu(x):\n",
        "  assert len(x.shape) == 2\n",
        "  x = x.copy()\n",
        "  for i in range(x.shape[0]):\n",
        "    for j in range(x.shape[1]):\n",
        "      x[i, j] = max(x[i, j], 0)\n",
        "  return x"
      ],
      "metadata": {
        "id": "QMboIj-56A0l"
      },
      "execution_count": 34,
      "outputs": []
    },
    {
      "cell_type": "code",
      "source": [
        "#덧셈 연산\n",
        "def naive_add(x, y):\n",
        "  assert len(x.shape) == 2\n",
        "  assert x.shape == y.shape\n",
        "  x = x.copy()\n",
        "  for i in range(x.shape[0]):\n",
        "    for j in range(x.shape[1]):\n",
        "      x[i, j] += y[i, j]\n",
        "  return x"
      ],
      "metadata": {
        "id": "16tSQ1fe6X0k"
      },
      "execution_count": 35,
      "outputs": []
    },
    {
      "cell_type": "code",
      "source": [
        "#실제 시간 차이를 재어보기\n",
        "import numpy as np\n",
        "import time\n",
        "\n",
        "x = np.random.random((20, 100))\n",
        "y = np.random.random((20, 100))\n",
        "\n",
        "t0 = time.time()\n",
        "for _ in range(1000):\n",
        "    z = x + y\n",
        "    z = np.maximum(z, 0.)\n",
        "print(\"걸린 시간: {0:.2f} s\".format(time.time() - t0))"
      ],
      "metadata": {
        "colab": {
          "base_uri": "https://localhost:8080/"
        },
        "id": "HbLuCVRwr7hV",
        "outputId": "fe16568a-1743-4746-8e5a-01d4430fcbb0"
      },
      "execution_count": 36,
      "outputs": [
        {
          "output_type": "stream",
          "name": "stdout",
          "text": [
            "걸린 시간: 0.01 s\n"
          ]
        }
      ]
    },
    {
      "cell_type": "code",
      "source": [
        "#단순한 방법\n",
        "t0 = time.time()\n",
        "for _ in range(1000):\n",
        "  z = naive_add(x, y)\n",
        "  z = naive_relu(z)\n",
        "print(\"걸린 시간: {0:.2f} s\".format(time.time() - t0))"
      ],
      "metadata": {
        "colab": {
          "base_uri": "https://localhost:8080/"
        },
        "id": "S3E-YPJRuGx7",
        "outputId": "7d9137c9-1b61-4e43-8be7-f5209071aeb8"
      },
      "execution_count": 37,
      "outputs": [
        {
          "output_type": "stream",
          "name": "stdout",
          "text": [
            "걸린 시간: 2.21 s\n"
          ]
        }
      ]
    },
    {
      "cell_type": "markdown",
      "source": [
        "##브로드캐스팅"
      ],
      "metadata": {
        "id": "YmgkE4zsuo2O"
      }
    },
    {
      "cell_type": "code",
      "source": [
        "import numpy as np\n",
        "\n",
        "X = np.random.random((32, 10))\n",
        "y = np.random.random((10,))"
      ],
      "metadata": {
        "id": "Nr1jarN6ujlZ"
      },
      "execution_count": 38,
      "outputs": []
    },
    {
      "cell_type": "code",
      "source": [
        "y = np.expand_dims(y, axis=0) # y의 크기가 (1, 10)이 된다고?"
      ],
      "metadata": {
        "id": "9xJuOh9ku2cO"
      },
      "execution_count": 39,
      "outputs": []
    },
    {
      "cell_type": "code",
      "source": [
        "Y = np.concatenate([y] * 32, axis=0) # y를 이 축에 32번 반복 -> y의 크기 : (32, 10)"
      ],
      "metadata": {
        "id": "6UlOTZynu6X7"
      },
      "execution_count": 40,
      "outputs": []
    },
    {
      "cell_type": "code",
      "source": [
        "def naive_add_matrix_and_vector(x, y):\n",
        "  assert len(x.shape) == 2\n",
        "  assert len(y.shape) == 1\n",
        "  assert x.shape[1] == y.shape[0]\n",
        "  x = x.copy()\n",
        "  for i in range(x.shape[0]):\n",
        "    for j in range(x.shape[1]):\n",
        "      x[i, j] += y[j]\n",
        "  return x"
      ],
      "metadata": {
        "id": "y07IJ3-ou-E6"
      },
      "execution_count": 41,
      "outputs": []
    },
    {
      "cell_type": "code",
      "source": [
        "import numpy as np\n",
        "\n",
        "x = np.random.random((64, 3, 32, 10)) # x는 (64,3,32,10) 크기의 랜덤 텐서\n",
        "y = np.random.random((32, 10))  # y는 (32,10)\n",
        "z = np.maximum(x, y)"
      ],
      "metadata": {
        "id": "W1Gyf7a4vO71"
      },
      "execution_count": 42,
      "outputs": []
    },
    {
      "cell_type": "markdown",
      "source": [
        "##텐서 곱셈\n",
        "\n",
        "점곱 연산"
      ],
      "metadata": {
        "id": "tUW6MtjkmkFP"
      }
    },
    {
      "cell_type": "code",
      "source": [
        "x = np.random.random((32,))\n",
        "y = np.random.random((32,))\n",
        "z = np.dot(x, y)"
      ],
      "metadata": {
        "id": "qWBg2LSHwrqo"
      },
      "execution_count": 43,
      "outputs": []
    },
    {
      "cell_type": "code",
      "source": [
        "def naive_vector_dot(x, y):\n",
        "  assert len(x.shape) == 1\n",
        "  assert len(y.shape) == 1\n",
        "  assert x.shape[0] == y.shape[0]\n",
        "  z = 0.\n",
        "  for i in range(x.shape[0]):\n",
        "    z += x[i] * y[i]\n",
        "  return z"
      ],
      "metadata": {
        "id": "5slvYlOxxnAx"
      },
      "execution_count": 44,
      "outputs": []
    },
    {
      "cell_type": "code",
      "source": [
        "#2개의 벡터 x와 y의 점곱 계산\n",
        "\n",
        "def naive_vector_dot(x, y):\n",
        "  assert len(x.shape) == 1  # x, y는 넘파이 벡터\n",
        "  assert len(y.shape) == 1\n",
        "  assert x.shape[0] == y.shape[0]\n",
        "  z = 0.\n",
        "  for i in range(x.shape[0]):\n",
        "    z += x[i] * y[i]\n",
        "  return z"
      ],
      "metadata": {
        "id": "E6_pZ5nsyK8R"
      },
      "execution_count": 45,
      "outputs": []
    },
    {
      "cell_type": "code",
      "source": [
        "#행렬 x와 벡터 y 사이에서의 점곱 계산\n",
        "#y와 x의 행 사이에서 점곱이 일어나기에 '벡터'가 반환된다.\n",
        "\n",
        "def naive_matrix_vector_dot(x, y):\n",
        "  assert len(x.shape)==2\n",
        "  assert len(y.shape) == 1\n",
        "  assert x.shape[1] == y.shape[0] #x의 두번째 차원이 y의 첫번째 차원과 같아야 한다.\n",
        "  z = np.zeros(x.shape[0])  # x의 행과 같은 크기의 0이 채워진 벡터를 만든다.\n",
        "  for i in range(x.shape[0]):\n",
        "    for j in range(x.shape[1]):\n",
        "      z[i] += x[i, j] * y[j]\n",
        "  return z"
      ],
      "metadata": {
        "id": "9OuITcVTjZ5S"
      },
      "execution_count": 46,
      "outputs": []
    },
    {
      "cell_type": "code",
      "source": [
        "# 행렬-벡터 점곱은 더 단순하게 표현하자면\n",
        "def naive_matrix_vector_dot2(x, y):\n",
        "  z = np.zeros(x.shape[0])\n",
        "  for i in range(x.shape[0]):\n",
        "    z[i] = naive_vector_dot(x[i, :], y)\n",
        "  return z"
      ],
      "metadata": {
        "id": "i3OzD7R6kEjb"
      },
      "execution_count": 47,
      "outputs": []
    },
    {
      "cell_type": "code",
      "source": [
        "# 두 행렬간의 점곱\n",
        "\n",
        "def naive_matrix_dot(x, y):\n",
        "  assert len(x.shape) == 2\n",
        "  assert len(y.shape) == 2\n",
        "  assert x.shape[1] == y.shape[0] # x의 두번재 차원이 y의 첫번쨰 차원과 같아야 한다.\n",
        "  z = np.zeros((x.shape[0], y.shape[1]))  # 0이 채워진 특정 크기의 벡터를 만든다.\n",
        "  for i in range(x.shape[0]): # x의 행을 반복\n",
        "    for j in range(y.shape[1]): # y의 열을 반복\n",
        "      row_x = x[i, :]\n",
        "      column_y = y[:, j]\n",
        "      z[i, j] = naive_vector_dot(row_x, column_y)\n",
        "  return z"
      ],
      "metadata": {
        "id": "J0e2E-MtkgkY"
      },
      "execution_count": 48,
      "outputs": []
    },
    {
      "cell_type": "markdown",
      "source": [
        "![스크린샷 2025-09-25 201702.png](data:image/png;base64,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)"
      ],
      "metadata": {
        "id": "GxWb3I1rl1Ox"
      }
    },
    {
      "cell_type": "markdown",
      "source": [
        "##텐서크기변환\n",
        "\n",
        "모델에 주입할 숫자 데이터를 전처리 할 때 사용"
      ],
      "metadata": {
        "id": "RjD213K5mFci"
      }
    },
    {
      "cell_type": "code",
      "source": [
        "train_images = train_images.reshape((60000, 28*28))"
      ],
      "metadata": {
        "id": "E60PrQavleVb"
      },
      "execution_count": 49,
      "outputs": []
    },
    {
      "cell_type": "code",
      "source": [
        "x = np.array([[0., 1.],\n",
        "              [2., 3.],\n",
        "              [4., 5.]])"
      ],
      "metadata": {
        "id": "__3Jd9NxmxWM"
      },
      "execution_count": 50,
      "outputs": []
    },
    {
      "cell_type": "code",
      "source": [
        "x.shape"
      ],
      "metadata": {
        "colab": {
          "base_uri": "https://localhost:8080/"
        },
        "id": "xWH1-ZIam8DE",
        "outputId": "b628b492-283e-4ebf-a3dc-d631cc0865f2"
      },
      "execution_count": 51,
      "outputs": [
        {
          "output_type": "execute_result",
          "data": {
            "text/plain": [
              "(3, 2)"
            ]
          },
          "metadata": {},
          "execution_count": 51
        }
      ]
    },
    {
      "cell_type": "code",
      "source": [
        "x = x.reshape((6, 1))\n",
        "x"
      ],
      "metadata": {
        "colab": {
          "base_uri": "https://localhost:8080/"
        },
        "id": "14bBaFzom89u",
        "outputId": "6f55d298-6eb8-4bd9-aa3a-77d86e79e514"
      },
      "execution_count": 52,
      "outputs": [
        {
          "output_type": "execute_result",
          "data": {
            "text/plain": [
              "array([[0.],\n",
              "       [1.],\n",
              "       [2.],\n",
              "       [3.],\n",
              "       [4.],\n",
              "       [5.]])"
            ]
          },
          "metadata": {},
          "execution_count": 52
        }
      ]
    },
    {
      "cell_type": "code",
      "source": [
        "x = x.reshape((2, 3))\n",
        "x"
      ],
      "metadata": {
        "colab": {
          "base_uri": "https://localhost:8080/"
        },
        "id": "GpAOUtQim_j7",
        "outputId": "24754743-9b8b-46f3-8709-27b9d069fd0a"
      },
      "execution_count": 53,
      "outputs": [
        {
          "output_type": "execute_result",
          "data": {
            "text/plain": [
              "array([[0., 1., 2.],\n",
              "       [3., 4., 5.]])"
            ]
          },
          "metadata": {},
          "execution_count": 53
        }
      ]
    },
    {
      "cell_type": "code",
      "source": [
        "# 전치\n",
        "\n",
        "x = np.zeros((300, 20))\n",
        "x = np.transpose(x)\n",
        "x.shape"
      ],
      "metadata": {
        "colab": {
          "base_uri": "https://localhost:8080/"
        },
        "id": "9BdnaAp7nNAA",
        "outputId": "7bdb4c72-b7d0-4d6d-dfb4-a1f8db729254"
      },
      "execution_count": 54,
      "outputs": [
        {
          "output_type": "execute_result",
          "data": {
            "text/plain": [
              "(20, 300)"
            ]
          },
          "metadata": {},
          "execution_count": 54
        }
      ]
    },
    {
      "cell_type": "markdown",
      "source": [
        "##도함수의 연결: 역전파 알고리즘\n",
        "\n",
        "미적분의 연쇄 법칙을 사용 -> 연결된 함수의 도함수를 구함.\n",
        "\n",
        "fg(x) == f(g(x))\n",
        "def fg(x):\n",
        "\n",
        "  x1 = g(x)\n",
        "  \n",
        "  y1 = f(x1)\n",
        "\n",
        "  return y"
      ],
      "metadata": {
        "id": "ba5gyByLJiT8"
      }
    },
    {
      "cell_type": "markdown",
      "source": [
        "##Gradient Tape 최적화\n",
        "\n",
        "자동 미분 기능 API"
      ],
      "metadata": {
        "id": "4NG43xT2NGpg"
      }
    },
    {
      "cell_type": "code",
      "source": [
        "import tensorflow as tf\n",
        "\n",
        "x = tf.Variable(0.) #초기값 0으로 스칼라 변수를 생성합니다.\n",
        "with tf.GradientTape() as tape: #GradientTape 컨텍스트 안에서 연산을 기록합니다.\n",
        "  y = 2 * x + 3 # 연산을 기록합니다.\n",
        "grad_of_y_wrt_x = tape.gradient(y, x) #y에 대한 x의 도함수를 계산합니다."
      ],
      "metadata": {
        "id": "bS1GcfXxJwrV"
      },
      "execution_count": 55,
      "outputs": []
    },
    {
      "cell_type": "code",
      "source": [
        "x = tf.Variable(tf.zeros((2,2)))  #초기값이 0인 2x2 행렬(변수)을 생성합니다.\n",
        "with tf.GradientTape() as tape:\n",
        "  y = 2 * x + 3\n",
        "  grad_of_y_wrt_x = tape.gradient(y, x)\n",
        "  # grad_of_wrt_x는 (x와 크기가 같은) (2, 2) 크기의 텐서로\n",
        "  # x = [[0, 0], [0, 0]]일 떄 y = 2 * x + 3의 곡률을 나타낸다.\n"
      ],
      "metadata": {
        "id": "xiq6hylaNlwK"
      },
      "execution_count": 56,
      "outputs": []
    },
    {
      "cell_type": "code",
      "source": [
        "W = tf.Variable(tf.random.uniform((2, 2)))\n",
        "b = tf.Variable(tf.zeros((2, )))\n",
        "x = tf.random.uniform((2, 2))\n",
        "with tf.GradientTape() as tape:\n",
        "  y = tf.matmul(x, W) + b # matmul은 텐서플로의 점곱 함수입니다.\n",
        "grad_of_y_wrt_W_and_b = tape.gradient(y, [W, b])\n",
        "# grad_of_y_wrt_W_and_b는 2개의 텐서를 담은 리스트이다.\n",
        "# 각 텐서는 W, b와 크기가 같습니다."
      ],
      "metadata": {
        "id": "v5WajNEfNvh-"
      },
      "execution_count": 57,
      "outputs": []
    },
    {
      "cell_type": "markdown",
      "source": [
        "##첫 번째 예제 다시 살펴보기"
      ],
      "metadata": {
        "id": "cSYofIS7QRFI"
      }
    },
    {
      "cell_type": "markdown",
      "source": [
        "이미지 데이터 준비하기"
      ],
      "metadata": {
        "id": "bxvJnp-2hdhJ"
      }
    },
    {
      "cell_type": "code",
      "source": [
        "# 입력 데이터 받고\n",
        "# 훈련 데이터는 (60000, 28 * 28) 크기의 넘파이 배열로 저장\n",
        "# 테스트 데이터는 (10000, 28 * 28) 크기의 넘파이 배열로 저장\n",
        "(train_images, train_labels), (test_images, test_labels) = mnist.load_data()\n",
        "train_images = train_images.reshape((60000, 28*28))\n",
        "train_images = train_images.astype('float32') / 255\n",
        "test_images = test_images.reshape((10000, 28*28))\n",
        "test_images = test_images.astype('float32') / 255"
      ],
      "metadata": {
        "id": "C3iGx8_QPip6"
      },
      "execution_count": 58,
      "outputs": []
    },
    {
      "cell_type": "markdown",
      "source": [
        "신경망 구조 모델"
      ],
      "metadata": {
        "id": "psD9HTxshjWt"
      }
    },
    {
      "cell_type": "code",
      "source": [
        "# 모델 구현\n",
        "model = keras.Sequential([\n",
        "    layers.Dense(512, activation=\"relu\"),\n",
        "    layers.Dense(10, activation=\"softmax\")\n",
        "])\n",
        "# 2개의 Dense 층이 연결되어있고 각 층은 가중치 텐서를 포함해 입력 데이터에 대한\n",
        "# 몇 개의 간단한 텐서 연산을 적용\n",
        "# 층의 속성인 가중치 텐서는 모델이 정보를 저장하는 곳"
      ],
      "metadata": {
        "id": "qIxfQyKKQlhn"
      },
      "execution_count": 59,
      "outputs": []
    },
    {
      "cell_type": "markdown",
      "source": [
        "컴파일 단계"
      ],
      "metadata": {
        "id": "FgIwczkHhwTI"
      }
    },
    {
      "cell_type": "code",
      "source": [
        "# 모델을 컴파일하는 단계\n",
        "model.compile(optimizer=\"rmsprop\",  # 옵티마이저\n",
        "              loss=\"sparse_categorical_crossentropy\", # 손실함수\n",
        "              # 가중치 텐서를 학습하기 위한 피드백 신호로 사용.\n",
        "              metrics=[\"accuracy\"])"
      ],
      "metadata": {
        "id": "gAGNGVPNRU8E"
      },
      "execution_count": 60,
      "outputs": []
    },
    {
      "cell_type": "markdown",
      "source": [
        "모델 훈련"
      ],
      "metadata": {
        "id": "LpXDMqx8hzm4"
      }
    },
    {
      "cell_type": "code",
      "source": [
        "model.fit(train_images, train_labels, epochs=5, batch_size=128)"
      ],
      "metadata": {
        "colab": {
          "base_uri": "https://localhost:8080/"
        },
        "id": "k1AatK-HTCrI",
        "outputId": "00a2cfd9-5962-44a7-952e-92460c10c700"
      },
      "execution_count": 61,
      "outputs": [
        {
          "output_type": "stream",
          "name": "stdout",
          "text": [
            "Epoch 1/5\n",
            "\u001b[1m469/469\u001b[0m \u001b[32m━━━━━━━━━━━━━━━━━━━━\u001b[0m\u001b[37m\u001b[0m \u001b[1m5s\u001b[0m 9ms/step - accuracy: 0.8779 - loss: 0.4290\n",
            "Epoch 2/5\n",
            "\u001b[1m469/469\u001b[0m \u001b[32m━━━━━━━━━━━━━━━━━━━━\u001b[0m\u001b[37m\u001b[0m \u001b[1m6s\u001b[0m 11ms/step - accuracy: 0.9672 - loss: 0.1110\n",
            "Epoch 3/5\n",
            "\u001b[1m469/469\u001b[0m \u001b[32m━━━━━━━━━━━━━━━━━━━━\u001b[0m\u001b[37m\u001b[0m \u001b[1m4s\u001b[0m 9ms/step - accuracy: 0.9786 - loss: 0.0721\n",
            "Epoch 4/5\n",
            "\u001b[1m469/469\u001b[0m \u001b[32m━━━━━━━━━━━━━━━━━━━━\u001b[0m\u001b[37m\u001b[0m \u001b[1m4s\u001b[0m 8ms/step - accuracy: 0.9853 - loss: 0.0484\n",
            "Epoch 5/5\n",
            "\u001b[1m469/469\u001b[0m \u001b[32m━━━━━━━━━━━━━━━━━━━━\u001b[0m\u001b[37m\u001b[0m \u001b[1m5s\u001b[0m 11ms/step - accuracy: 0.9885 - loss: 0.0398\n"
          ]
        },
        {
          "output_type": "execute_result",
          "data": {
            "text/plain": [
              "<keras.src.callbacks.history.History at 0x7985b024ef30>"
            ]
          },
          "metadata": {},
          "execution_count": 61
        }
      ]
    },
    {
      "cell_type": "markdown",
      "source": [
        "##텐서플로를 사용해 첫 번째 예제를 밑바닥부터 다시 구현하기\n",
        "\n",
        "구현을 통해서 fit() 메서드를 이해하고, 케라스 API에서 제공하는 고수준의 기능을 더 잘 활용할 수 있다"
      ],
      "metadata": {
        "id": "3SqawAoBTitH"
      }
    },
    {
      "cell_type": "markdown",
      "source": [
        "###단순한 Dense 클래스\n",
        "\n",
        "Dense 층\n",
        "\n",
        "**output = activation(dot(W, input) + b)**\n",
        "\n",
        "**W**와 **b**는 **model parameter**\n",
        "\n",
        "**activation**은 각 원소에 적용되는 함수\n",
        "(일반적으로 **relu**, 마지막 층에서는 **softmax** 사용)"
      ],
      "metadata": {
        "id": "XW29qqnrTomA"
      }
    },
    {
      "cell_type": "code",
      "source": [
        "import tensorflow as tf\n",
        "\n",
        "class NaiveDense:\n",
        "  def __init__(self, input_size, output_size, activation):\n",
        "    self.activation = activation\n",
        "\n",
        "    w_shape = (input_size, output_size)\n",
        "    w_initial_value = tf.random.uniform(w_shape, minval=0, maxval=1e-1)\n",
        "    # 랜덤한 값으로 초기화된 (input_size, output_size) 크기의 행렬 W를 만든다.\n",
        "    self.W = tf.Variable(w_initial_value)\n",
        "\n",
        "    b_shape = (output_size, ) # 0으로 초기화된(output_size, ) 크기의 벡터 b를 만든다.\n",
        "    b_initial_value = tf.zeros(b_shape)\n",
        "    self.b = tf.Variable(b_initial_value)\n",
        "\n",
        "  def __call__(self, inputs): # 정방향 패스를 수행\n",
        "    return self.activation(tf.matmul(inputs, self.W) + self.b)\n",
        "\n",
        "  @property\n",
        "  def weights(self):  # 층의 가중치를 추출하기 위한 매서드\n",
        "    return [self.W, self.b]"
      ],
      "metadata": {
        "id": "DwRkgVeyTGQs"
      },
      "execution_count": 62,
      "outputs": []
    },
    {
      "cell_type": "markdown",
      "source": [
        "###단순한 Sequential 클래스"
      ],
      "metadata": {
        "id": "FG2s2KyicMif"
      }
    },
    {
      "cell_type": "code",
      "source": [
        "class NaiveSequential:\n",
        "  def __init__(self, layers):\n",
        "    self.layers = layers\n",
        "\n",
        "  def __call__(self, inputs):\n",
        "    x = inputs\n",
        "    for layer in self.layers:\n",
        "      x = layer(x)\n",
        "    return x\n",
        "\n",
        "  @property\n",
        "  def weights(self):\n",
        "    weights = []\n",
        "    for layer in self.layers:\n",
        "      weights += layer.weights\n",
        "    return weights"
      ],
      "metadata": {
        "id": "IYntY-IeUcSX"
      },
      "execution_count": 63,
      "outputs": []
    },
    {
      "cell_type": "code",
      "source": [
        "# NaiveDense와 NaiveSequential 클래스를 사용해 케라스와 유사한 모델을 구현\n",
        "model = NaiveSequential([\n",
        "    NaiveDense(input_size=28*28, output_size=512, activation=tf.nn.relu),\n",
        "    NaiveDense(input_size=512, output_size=10, activation=tf.nn.softmax)\n",
        "])\n",
        "assert len(model.weights) == 4"
      ],
      "metadata": {
        "id": "qbj0j4gbcwST"
      },
      "execution_count": 64,
      "outputs": []
    },
    {
      "cell_type": "markdown",
      "source": [
        "keras와 비교했을 때 numpy로 구현하는 것이 더 복잡하다"
      ],
      "metadata": {
        "id": "OPEkA7THh7bL"
      }
    },
    {
      "cell_type": "markdown",
      "source": [
        "###배치 제너레이터"
      ],
      "metadata": {
        "id": "NavaZzdtjs3W"
      }
    },
    {
      "cell_type": "code",
      "source": [
        "import math\n",
        "\n",
        "class BatchGenerator:\n",
        "  def __init__(self, images, labels, batch_size=128):\n",
        "    assert len(images) == len(labels)\n",
        "    self.index = 0\n",
        "    self.images = images\n",
        "    self.labels = labels\n",
        "    self.batch_size = batch_size\n",
        "    self.num_batches = math.ceil(len(images) / batch_size)\n",
        "\n",
        "  def next(self):\n",
        "    images = self.images[self.index : self.index + self.batch_size]\n",
        "    labels = self.labels[self.index : self.index + self.batch_size]\n",
        "    self.index += self.batch_size\n",
        "    return images, labels"
      ],
      "metadata": {
        "id": "AUyQVbvWiS1l"
      },
      "execution_count": 65,
      "outputs": []
    },
    {
      "cell_type": "markdown",
      "source": [
        "###훈련 스텝 실행하기"
      ],
      "metadata": {
        "id": "8nJTOk8CkUAn"
      }
    },
    {
      "cell_type": "code",
      "source": [
        "def one_training_step(model, images_batch, labels_batch):\n",
        "    with tf.GradientTape() as tape:\n",
        "        predictions = model(images_batch)\n",
        "        per_sample_losses = tf.keras.losses.sparse_categorical_crossentropy(\n",
        "            labels_batch, predictions)\n",
        "        average_loss = tf.reduce_mean(per_sample_losses)\n",
        "    gradients = tape.gradient(average_loss, model.weights)\n",
        "    update_weights(gradients, model.weights)\n",
        "    return average_loss"
      ],
      "metadata": {
        "id": "brc7pf5SkTVn"
      },
      "execution_count": 66,
      "outputs": []
    },
    {
      "cell_type": "markdown",
      "source": [
        "수동으로 구현하는 가중치 업데이트 단계"
      ],
      "metadata": {
        "id": "MQcRLIwkmxJG"
      }
    },
    {
      "cell_type": "code",
      "source": [
        "learning_rate = 1e-3\n",
        "\n",
        "def update_weights(gradients, weights):\n",
        "  for g, w in zip(gradients, weights):\n",
        "    w.assign_sub(g * learning_rate) # -= 연산과 동일한 메서드"
      ],
      "metadata": {
        "id": "Iy4i2oSAlALK"
      },
      "execution_count": 67,
      "outputs": []
    },
    {
      "cell_type": "markdown",
      "source": [
        "케라스의 Optimizer 인스턴스를 활용한 가중치 업데이트"
      ],
      "metadata": {
        "id": "M4HqUuscm2IE"
      }
    },
    {
      "cell_type": "code",
      "source": [
        "from tensorflow.keras import optimizers\n",
        "\n",
        "optimizer = optimizers.SGD(learning_rate=1e-3)\n",
        "\n",
        "def update_weights(gradients, weights):\n",
        "  optimizer.apply_gradients(zip(gradients, weights))"
      ],
      "metadata": {
        "id": "6SnOovSFmZsy"
      },
      "execution_count": 68,
      "outputs": []
    },
    {
      "cell_type": "markdown",
      "source": [
        "###전체 훈련 루프"
      ],
      "metadata": {
        "id": "geTyete6m6s0"
      }
    },
    {
      "cell_type": "code",
      "source": [
        "def fit(model, images, labels, epochs, batch_size=128):\n",
        "  for epoch_counter in range(epochs):\n",
        "    print(f\"에포크 {epoch_counter}\")\n",
        "    batch_generator = BatchGenerator(images, labels)\n",
        "    for batch_counter in range(batch_generator.num_batches):\n",
        "      images_batch, labels_batch = batch_generator.next()\n",
        "      loss = one_training_step(model, images_batch, labels_batch)\n",
        "      if batch_counter % 100 == 0:\n",
        "        print(f\"배치 {batch_counter}번째 손실: {loss:.2f}\")"
      ],
      "metadata": {
        "id": "HwGvbEhJm5rS"
      },
      "execution_count": 69,
      "outputs": []
    },
    {
      "cell_type": "code",
      "source": [
        "from tensorflow.keras.datasets import mnist\n",
        "(train_images, train_labels), (test_images, test_labels) = mnist.load_data()\n",
        "\n",
        "train_images = train_images.reshape((60000, 28 * 28))\n",
        "train_images = train_images.astype(\"float32\") / 255\n",
        "test_images = test_images.reshape((10000, 28 * 28))\n",
        "test_images = test_images.astype(\"float32\") / 255\n",
        "\n",
        "fit(model, train_images, train_labels, epochs=10, batch_size=128)"
      ],
      "metadata": {
        "colab": {
          "base_uri": "https://localhost:8080/"
        },
        "id": "InWG0dp8ryPh",
        "outputId": "194f9cb4-7840-4802-c684-55d9a21e73ed"
      },
      "execution_count": 70,
      "outputs": [
        {
          "output_type": "stream",
          "name": "stdout",
          "text": [
            "에포크 0\n",
            "배치 0번째 손실: 4.58\n",
            "배치 100번째 손실: 2.25\n",
            "배치 200번째 손실: 2.22\n",
            "배치 300번째 손실: 2.10\n",
            "배치 400번째 손실: 2.25\n",
            "에포크 1\n",
            "배치 0번째 손실: 1.90\n",
            "배치 100번째 손실: 1.89\n",
            "배치 200번째 손실: 1.84\n",
            "배치 300번째 손실: 1.72\n",
            "배치 400번째 손실: 1.85\n",
            "에포크 2\n",
            "배치 0번째 손실: 1.58\n",
            "배치 100번째 손실: 1.59\n",
            "배치 200번째 손실: 1.52\n",
            "배치 300번째 손실: 1.44\n",
            "배치 400번째 손실: 1.53\n",
            "에포크 3\n",
            "배치 0번째 손실: 1.32\n",
            "배치 100번째 손실: 1.36\n",
            "배치 200번째 손실: 1.25\n",
            "배치 300번째 손실: 1.22\n",
            "배치 400번째 손실: 1.29\n",
            "에포크 4\n",
            "배치 0번째 손실: 1.12\n",
            "배치 100번째 손실: 1.17\n",
            "배치 200번째 손실: 1.06\n",
            "배치 300번째 손실: 1.06\n",
            "배치 400번째 손실: 1.12\n",
            "에포크 5\n",
            "배치 0번째 손실: 0.98\n",
            "배치 100번째 손실: 1.03\n",
            "배치 200번째 손실: 0.91\n",
            "배치 300번째 손실: 0.93\n",
            "배치 400번째 손실: 1.00\n",
            "에포크 6\n",
            "배치 0번째 손실: 0.87\n",
            "배치 100번째 손실: 0.92\n",
            "배치 200번째 손실: 0.81\n",
            "배치 300번째 손실: 0.84\n",
            "배치 400번째 손실: 0.91\n",
            "에포크 7\n",
            "배치 0번째 손실: 0.79\n",
            "배치 100번째 손실: 0.84\n",
            "배치 200번째 손실: 0.73\n",
            "배치 300번째 손실: 0.77\n",
            "배치 400번째 손실: 0.84\n",
            "에포크 8\n",
            "배치 0번째 손실: 0.72\n",
            "배치 100번째 손실: 0.77\n",
            "배치 200번째 손실: 0.67\n",
            "배치 300번째 손실: 0.71\n",
            "배치 400번째 손실: 0.78\n",
            "에포크 9\n",
            "배치 0번째 손실: 0.67\n",
            "배치 100번째 손실: 0.72\n",
            "배치 200번째 손실: 0.62\n",
            "배치 300번째 손실: 0.67\n",
            "배치 400번째 손실: 0.74\n"
          ]
        }
      ]
    },
    {
      "cell_type": "markdown",
      "source": [
        "###모델 평가하기"
      ],
      "metadata": {
        "id": "8I2MYb6dxid-"
      }
    },
    {
      "cell_type": "code",
      "source": [
        "predictions = model(test_images)\n",
        "predictions = predictions.numpy()\n",
        "predicted_labels = np.argmax(predictions, axis=1)\n",
        "matches = predicted_labels == test_labels\n",
        "print(f\"정확도: {matches.mean():.2f}\")"
      ],
      "metadata": {
        "colab": {
          "base_uri": "https://localhost:8080/"
        },
        "id": "SsqOhS5ssP2g",
        "outputId": "051241ac-bd3f-4d3b-968c-71b4f176a24c"
      },
      "execution_count": 71,
      "outputs": [
        {
          "output_type": "stream",
          "name": "stdout",
          "text": [
            "정확도: 0.81\n"
          ]
        }
      ]
    }
  ]
}